{
 "cells": [
  {
   "cell_type": "code",
   "execution_count": null,
   "id": "a0b0403f-77c3-444a-9bd6-665773b40f0b",
   "metadata": {},
   "outputs": [],
   "source": [
    "Q1. What are the three measures of central tendency?\n",
    "Answer : The three measures of central tendency are:\n",
    "\n",
    "Mean: The mean is the average of all the values in a dataset. It is calculated by adding up all the values in the dataset and \n",
    "then dividing by the number of values.\n",
    "\n",
    "Median: The median is the middle value in a dataset when the values are arranged in numerical order. If there is an even number of values,\n",
    "the median is the average of the two middle values.\n",
    "\n",
    "Mode: The mode is the value that appears most frequently in a dataset. If there is no value that appears more than once,\n",
    "the dataset is said to have no mode."
   ]
  },
  {
   "cell_type": "code",
   "execution_count": null,
   "id": "1710ffd9-fb76-49d4-8848-eed7076fd51e",
   "metadata": {},
   "outputs": [],
   "source": [
    "Q2. What is the difference between the mean, median, and mode? How are they used to measure the\n",
    "central tendency of a dataset?\n",
    "Answer : The mean is the sum of all the values in a dataset divided by the number of values. It is sensitive to extreme values or outliers in \n",
    "a dataset,  larger or smaller than the oas the value of the mean can be greatly influenced by a single value that is muther values.\n",
    "\n",
    "The median is the middle value in a dataset when the values are arranged in numerical order. It is less sensitive to extreme values than the mean,\n",
    "as extreme values do not have as much impact on the position of the median in the dataset.\n",
    "\n",
    "The mode is the value that appears most frequently in a dataset. It is useful for describing the most common value in a dataset, \n",
    "but it may not always be a representative measure of central tendency, especially if the dataset is multimodal (has more than one mode) or\n",
    "the mode has a low frequency of occurrence.\n",
    "\n",
    "In general, the mean is used when the data is normally distributed or when the data has no extreme values. \n",
    "The median is used when the data is skewed or when there are extreme values. The mode is used when describing the most common value in\n",
    "a dataset or when the data is categorical.\n",
    "\n",
    "All three measures of central tendency are useful for summarizing the characteristics of a dataset,\n",
    "but it is important to choose the appropriate measure depending on the characteristics of the dataset and\n",
    "the research question being addressed."
   ]
  },
  {
   "cell_type": "code",
   "execution_count": null,
   "id": "8106c1dd-c62e-44e6-a253-fa50737fd7eb",
   "metadata": {},
   "outputs": [],
   "source": [
    "Q3. Measure the three measures of central tendency for the given height data:\n",
    "[178,177,176,177,178.2,178,175,179,180,175,178.9,176.2,177,172.5,178,176.5]\n",
    "Answer : Mean:\n",
    "The mean is the sum of all the values in the data set divided by the number of values.\n",
    "Mean = (178 + 177 + 176 + 177 + 178.2 + 178 + 175 + 179 + 180 + 175 + 178.9 + 176.2 + 177 + 172.5 + 178 + 176.5) / 16\n",
    "\n",
    "Mean = 1768.3 / 16\n",
    "\n",
    "Mean = 110.51875\n",
    "\n",
    "Therefore, the mean height is approximately 176.8 cm.\n",
    "\n",
    "Median:\n",
    "The median is the middle value of the given data when arranged in ascending or descending order.\n",
    "First, we need to arrange the data in ascending order:\n",
    "\n",
    "[172.5, 175, 175, 176, 176.2, 176.5, 177, 177, 178, 178, 178, 178.2, 178.9, 179, 180]\n",
    "\n",
    "The number of data points is even, so we need to take the average of the two middle values, which are 177 and 178.\n",
    "\n",
    "Median = (177 + 178) / 2\n",
    "Median = 177.5\n",
    "\n",
    "Therefore, the median height is 177.5 units.\n",
    "\n",
    "Mode:\n",
    "The mode is the data point that occurs most frequently in the given data.\n",
    "In the given data, 178 occurs three times, which is more than any other data point. Therefore, the mode height is 178 units.\n",
    "\n",
    "Therefore, the measures of central tendency for the given height data are:\n",
    "\n",
    "Mean height = 110.51875 units\n",
    "Median height = 177.5 units\n",
    "Mode height = 178 units"
   ]
  },
  {
   "cell_type": "code",
   "execution_count": null,
   "id": "b283ddca-1eff-4cd4-b12f-b8c91c4f5e68",
   "metadata": {},
   "outputs": [],
   "source": [
    "Q4. Find the standard deviation for the given data:\n",
    "[178,177,176,177,178.2,178,175,179,180,175,178.9,176.2,177,172.5,178,176.5]\n",
    "Answer :1.7885814036548633 "
   ]
  },
  {
   "cell_type": "code",
   "execution_count": 3,
   "id": "21ea6642-4e23-4d33-a481-ca5f3edc689a",
   "metadata": {},
   "outputs": [],
   "source": [
    "let  ages_1st = [178,177,176,177,178.2,178,175,179,180,175,178.9,176.2,177,172.5,178,176.5]"
   ]
  },
  {
   "cell_type": "code",
   "execution_count": 4,
   "id": "9c4c30a9-d99d-4420-9284-521922a0b9b7",
   "metadata": {},
   "outputs": [],
   "source": [
    "import numpy as np"
   ]
  },
  {
   "cell_type": "code",
   "execution_count": 5,
   "id": "2249db2e-a8d2-4569-8821-755cc7b3b50f",
   "metadata": {},
   "outputs": [
    {
     "data": {
      "text/plain": [
       "1.7885814036548633"
      ]
     },
     "execution_count": 5,
     "metadata": {},
     "output_type": "execute_result"
    }
   ],
   "source": [
    "#std\n",
    "np.std(ages_1st)"
   ]
  },
  {
   "cell_type": "code",
   "execution_count": null,
   "id": "a73030b7-09a1-4ba7-8ac8-8db3ee82a68f",
   "metadata": {},
   "outputs": [],
   "source": [
    "Q5. How are measures of dispersion such as range, variance, and standard deviation used to describe\n",
    "the spread of a dataset? Provide an example.\n",
    "Answer : Measures of dispersion such as range, variance, and standard deviation are used to describe how spread out a dataset is.\n",
    "These measures provide information about the variability or diversity of the data points in a dataset.\n",
    "A small value of these measures indicates that the data points are clustered closely together, \n",
    "while a large value indicates that they are more spread out.\n",
    "\n",
    "The range is the difference between the maximum and minimum values of the dataset.\n",
    "It provides a simple measure of the spread of the data but can be influenced by extreme values or outliers. For example, the range of the following dataset is 18:\n",
    "\n",
    "[5, 8, 9, 10, 12, 14, 15, 20, 22, 23]\n",
    "\n",
    "The variance is the average of the squared differences of each data point from the mean.\n",
    "It measures the variability of the dataset and is calculated by dividing the sum of the squared differences by the total number of data points. \n",
    "A higher value of variance indicates that the data points are more widely spread out from the mean. \n",
    "For example, the variance of the following dataset is approximately 27.61:\n",
    "\n",
    "[10, 20, 30, 40, 50]\n",
    "\n",
    "The standard deviation is the square root of the variance and provides a measure of how much the data points deviate from the mean.\n",
    "A higher value of the standard deviation indicates that the data points are more spread out. For example, the standard deviation of the following dataset is approximately 8.66:\n",
    "\n",
    "[10, 20, 30, 40, 50]\n",
    "\n",
    "In conclusion, the measures of dispersion such as range, variance, and standard deviation are used to describe the spread of a dataset by indicating how the data points are clustered around the mean or scattered away from it.\n",
    "These measures are important in statistical analysis and provide insight into the nature of the data b\n",
    "eing analyzed."
   ]
  },
  {
   "cell_type": "code",
   "execution_count": null,
   "id": "ba250446-8108-41ec-b168-0c1d6d915fcc",
   "metadata": {},
   "outputs": [],
   "source": [
    "Q6. What is a Venn diagram?\n",
    "Answer :Overall, a Venn diagram provides a visual representation of complex sets, and it helps to identify similarities, \n",
    "differences, and overlaps between sets."
   ]
  },
  {
   "cell_type": "code",
   "execution_count": null,
   "id": "560e3fd2-181d-42aa-987d-b93b4d5d40e1",
   "metadata": {},
   "outputs": [],
   "source": [
    "Q7. For the two given sets A = (2,3,4,5,6,7) & B = (0,2,6,8,10). Find:\n",
    "(i) A B(intersection)\n",
    "(ii) A ⋃ B\n",
    "Answer : (i) = {2,6}\n",
    "         (ii)= {0,2,3,4,5,6,7,8,10}"
   ]
  },
  {
   "cell_type": "code",
   "execution_count": null,
   "id": "253b6e94-24a8-4d55-9d3b-80b1382533b3",
   "metadata": {},
   "outputs": [],
   "source": [
    "Q8. What do you understand about skewness in data?\n",
    "Answer : Skewness is a measure of the asymmetry of a probability distribution or a dataset. It describes how much the distribution or\n",
    "the dataset deviates from a symmetrical or a normal distribution. A symmetrical distribution is one in which the mean, median,\n",
    "and mode are equal, while a skewed distribution is one in which these measures of central tendency are not equal."
   ]
  },
  {
   "cell_type": "code",
   "execution_count": null,
   "id": "7e36420e-f5ce-423b-8ae6-a6370f8ca116",
   "metadata": {},
   "outputs": [],
   "source": [
    "Q9. If a data is right skewed then what will be the position of median with respect to mean?\n",
    "Answer : If a data is right skewed, then the median will be less than the mean. \n",
    "This is because the right skewness of the data indicates that there are more extreme values towards the right side of the distribution,\n",
    "which will pull the mean towards the right. On the other hand, the median is the middle value of the dataset, and it is less sensitive to extreme values than the mean.\n",
    "Therefore, it will be relatively unaffected by the skewness of the data, and will be closer to the values clustered towards the left side of the distribution.\n",
    "\n",
    "For example, \n",
    "\n",
    "[2, 3, 4, 5, 6, 7, 8, 9, 10, 20]\n",
    "\n",
    "The mean of this dataset is 7.4,\n",
    "while \n",
    "the median is 6.5.\n",
    "This dataset is right skewed because of the presence of the extreme value 20. The mean is greater than the median,\n",
    "which indicates that the right tail of the distribution is pulling the mean towards the right.\n",
    "\n",
    "\n",
    "\n"
   ]
  },
  {
   "cell_type": "code",
   "execution_count": null,
   "id": "d39610c7-fb4f-4ba6-b2ba-4514725a41e5",
   "metadata": {},
   "outputs": [],
   "source": [
    "Q10. Explain the difference between covariance and correlation. How are these measures used in\n",
    "statistical analysis?\n",
    "Answer : Covariance and correlation are two measures of the relationship between two variables in a dataset.\n",
    "Both of these measures are used in statistical analysis to describe the strength and direction of the relationship between variables.\n",
    "\n",
    "Covariance measures how two variables change together. It is a measure of the degree to which two variables are linearly related to each other. \n",
    "A positive covariance indicates that the two variables tend to move in the same direction, while a negative covariance indicates that they tend to move in opposite directions. \n",
    "However, covariance does not provide a standardized measure of the strength of the relationship between the variables, and it is sensitive to differences in the scales of the variables.\n",
    "    \n",
    "relationship between two variables.\n",
    "It is a standardized measure that ranges from -1 to +1.\n",
    "A correlation coefficient of +1 indicates a perfect positive linear relationship,\n",
    "while a correlation coefficient of -1 indicates a perfect negative linear relationship. \n",
    "A correlation coefficient of 0 indicates that there is no linear relationship between the variables.    \n",
    "    \n",
    "    "
   ]
  },
  {
   "cell_type": "code",
   "execution_count": null,
   "id": "f7cfa29d-13f5-4f03-9536-70a1318e36b4",
   "metadata": {},
   "outputs": [],
   "source": [
    "Q11. What is the formula for calculating the sample mean? Provide an example calculation for a\n",
    "dataset.\n",
    "Answer : The formula for calculating the sample mean is:x̄ = (Σxi) / n\n",
    "Where x̄ is the sample mean, Σxi is the sum of all the values in the dataset, and n is the number of values in the dataset.\n",
    "    \n",
    "To calculate the sample mean of this dataset, we use the formula:\n",
    "    x̄ = (10 + 12 + 14 + 16 + 18 + 20) / 6\n",
    "\n",
    "x̄ = 90 / 6\n",
    "\n",
    "x̄ = 15\n",
    "Therefore, the sample mean of this dataset is 15.\n",
    "    "
   ]
  },
  {
   "cell_type": "code",
   "execution_count": null,
   "id": "d81d0d21-f152-4503-b216-3396182ae2d1",
   "metadata": {},
   "outputs": [],
   "source": [
    "Q12. For a normal distribution data what is the relationship between its measure of central tendency?\n",
    "Answer : For a normal distribution, the measures of central tendency, which include the mean, median, and mode, are equal.\n",
    "This means that the mean, median, and mode all have the same value, and they are located at the center of the distribution.\n",
    "\n",
    "This relationship between the measures of central tendency in a normal distribution can be explained by the properties of normal distributions.\n",
    "Normal distributions are symmetric and bell-shaped, with the majority of the data clustered around the center of the distribution. \n",
    "This symmetry means that the mean, median, and mode all have the same value, which is located at the center of the distribution.\n",
    "\n",
    "In summary, for a normal distribution, the mean, median, and mode are all equal and located at the center of the distribution. \n",
    "This relationship between the measures of central tendency is a result of the symmetry and bell-shaped nature of normal distributions."
   ]
  },
  {
   "cell_type": "code",
   "execution_count": null,
   "id": "5ef7127f-e473-412f-b7f8-85b6a21df6b0",
   "metadata": {},
   "outputs": [],
   "source": [
    "Q13. How is covariance different from correlation?\n",
    "Answer : Definition: Covariance measures how two variables change together, while correlation measures the strength and\n",
    "direction of the linear relationship between two variables.\n",
    "\n",
    "Scale: Covariance is sensitive to the scale of the variables, while correlation is not.\n",
    "This means that the covariance value will change if the scale of one or both variables is changed, \n",
    "while the correlation value will remain the same.\n",
    "\n",
    "Interpretation: Covariance values can be difficult to interpret because they are not standardized and may be affected by the scale of the variables. \n",
    "Correlation values, on the other hand, are standardized and range from -1 to +1, making them easier to interpret.\n",
    "\n",
    "Range: Covariance can take any value, positive, negative or zero, while correlation values range from -1 to +1.\n",
    "\n",
    "Units: Covariance is expressed in the units of the variables, while correlation is a dimensionless quantity."
   ]
  },
  {
   "cell_type": "code",
   "execution_count": null,
   "id": "ef0e7764-578c-43c4-b0cb-3a9b7345a07a",
   "metadata": {},
   "outputs": [],
   "source": [
    "Q14. How do outliers affect measures of central tendency and dispersion? Provide an example.\n",
    "Answer : Outliers are extreme values in a dataset that lie far away from the bulk of the data.\n",
    "Outliers can have a significant effect on measures of central tendency and dispersion, especially the mean and standard deviation.\n",
    "For example,\n",
    "\n",
    "\n"
   ]
  }
 ],
 "metadata": {
  "kernelspec": {
   "display_name": "Python 3 (ipykernel)",
   "language": "python",
   "name": "python3"
  },
  "language_info": {
   "codemirror_mode": {
    "name": "ipython",
    "version": 3
   },
   "file_extension": ".py",
   "mimetype": "text/x-python",
   "name": "python",
   "nbconvert_exporter": "python",
   "pygments_lexer": "ipython3",
   "version": "3.10.8"
  }
 },
 "nbformat": 4,
 "nbformat_minor": 5
}
